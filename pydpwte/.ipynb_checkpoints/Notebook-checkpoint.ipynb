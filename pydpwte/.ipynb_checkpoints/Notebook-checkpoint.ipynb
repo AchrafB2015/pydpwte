{
 "cells": [
  {
   "cell_type": "code",
   "execution_count": 1,
   "metadata": {},
   "outputs": [],
   "source": [
    "from CrossValidation import crossValidation\n",
    "import pandas as pd\n",
    "import numpy as np\n",
    "from Operations_Pretraining import Normalize_InputData\n",
    "from DPWTE import dpwte\n",
    "import timeit\n",
    "from line_profiler import LineProfiler"
   ]
  },
  {
   "cell_type": "code",
   "execution_count": 2,
   "metadata": {},
   "outputs": [],
   "source": [
    "def generate_data_SUPPORT():\n",
    "    \n",
    "    \"\"\" Generate and preprocess SUPPORT2 dataset\n",
    "    \"\"\"\n",
    "    \n",
    "    DATA                   = pd.read_csv('support2.csv')\n",
    "    quantiles, Y_quantiles = [], []\n",
    "    for col in list(DATA.columns):\n",
    "        if(DATA[col].isna().sum()>300):\n",
    "            DATA = DATA.drop([col],axis=1)\n",
    "    col_time    = 'd.time'\n",
    "    col_event   = 'death'\n",
    "    DATA        = DATA.dropna(axis=0, how='any')\n",
    "    DATA        = pd.get_dummies(DATA, columns=['dnr', 'ca', 'dzclass', 'dzgroup', 'sex', 'race'])\n",
    "    corr_matrix = DATA.corr().abs()\n",
    "    upper       = corr_matrix.where(np.triu(np.ones(corr_matrix.shape), k=1).astype(np.bool))\n",
    "\n",
    "    # Find index of feature columns with correlation greater than 0.8\n",
    "    to_drop        = [column for column in upper.columns if (any(upper[column] > 0.8)) ]\n",
    "    DATA           = DATA.drop(DATA[to_drop], axis=1)\n",
    "    mx             = max(DATA['d.time'])\n",
    "    DATA           = DATA.sample(frac=1)\n",
    "    DATA['d.time'] = DATA['d.time'].apply(lambda x: x/mx)\n",
    "    X              = np.array(DATA.drop(['d.time', 'death'], axis = 1)).astype(np.float32)\n",
    "    n_cols         = X.shape[1]\n",
    "    X              = Normalize_InputData(X)\n",
    "    Y              = np.array(DATA[['d.time', 'death']]).astype(np.float32)\n",
    "    \n",
    "    return(X, Y)"
   ]
  },
  {
   "cell_type": "code",
   "execution_count": 3,
   "metadata": {},
   "outputs": [],
   "source": [
    "def generate_METABRIC_Data():\n",
    "    Y                            = pd.read_csv('label.csv')\n",
    "    DATA                         = pd.read_csv('cleaned_features_final.csv')\n",
    "    DATA[['event_time','label']] = Y\n",
    "\n",
    "\n",
    "    mx          = max(DATA['event_time'])\n",
    "    DATA['event_time'] = DATA['event_time'].apply(lambda x : x/mx)\n",
    "\n",
    "    X, Y  = np.array(DATA.drop(['event_time', 'label'], axis = 1)).astype(np.float32), np.array(DATA[['event_time', 'label']]).astype(np.float32)\n",
    "    n_cols = X.shape[1]\n",
    "\n",
    "    size       = len(DATA)\n",
    "    train_size = int(0.8*size)\n",
    "\n",
    "    train_indices  = np.random.choice(range(size),train_size, replace=False)\n",
    "    X        = X[train_indices,:]\n",
    "    Y        = Y[train_indices,:]\n",
    "\n",
    "    return(X,Y)"
   ]
  },
  {
   "cell_type": "code",
   "execution_count": 4,
   "metadata": {},
   "outputs": [],
   "source": [
    "X, Y = generate_data_SUPPORT()\n",
    "p = 10\n",
    "nb_features = X.shape[1]"
   ]
  },
  {
   "cell_type": "code",
   "execution_count": 5,
   "metadata": {},
   "outputs": [],
   "source": [
    "model = dpwte(nb_features, p)\n",
    "n_epochs = 1000\n",
    "regularization_parameter = 0.0001\n",
    "w_th = 0.1\n",
    "lr = 1e-4"
   ]
  },
  {
   "cell_type": "code",
   "execution_count": 6,
   "metadata": {},
   "outputs": [],
   "source": [
    "cv = crossValidation(model, p, X, Y, optimizer_name='Adam', regularization_parameter=regularization_parameter\n",
    "                     , w_th=w_th, n_epochs=n_epochs, lr=lr)"
   ]
  },
  {
   "cell_type": "code",
   "execution_count": 7,
   "metadata": {},
   "outputs": [
    {
     "name": "stderr",
     "output_type": "stream",
     "text": [
      "[                                                                        ] N/A%C:\\Users\\abennis\\Bureau\\code_paper2\\DPWTE.py:64: UserWarning: Implicit dimension choice for softmax has been deprecated. Change the call to include dim=X as an argument.\n",
      "  x2 = F.softmax(self.denseOutputAlphas(x2))\n",
      "[========================================================================] 100%\n",
      "[                                                                        ] N/A%"
     ]
    },
    {
     "name": "stdout",
     "output_type": "stream",
     "text": [
      "                                                                                          \n",
      "##########################################################################################\n",
      "                                                                                          \n",
      "                                       p̃ = 4                \n",
      "                                                                                           \n",
      "                   Fold n° 1, C-index of validation data: 0.8235494170554521\n",
      "                                                                                           \n",
      "###########################################################################################\n"
     ]
    },
    {
     "name": "stderr",
     "output_type": "stream",
     "text": [
      "[========================================================================] 100%\n",
      "[                                                                        ] N/A%"
     ]
    },
    {
     "name": "stdout",
     "output_type": "stream",
     "text": [
      "                                                                                          \n",
      "##########################################################################################\n",
      "                                                                                          \n",
      "                                       p̃ = 2                \n",
      "                                                                                           \n",
      "                   Fold n° 2, C-index of validation data: 0.8261859166752823\n",
      "                                                                                           \n",
      "###########################################################################################\n"
     ]
    },
    {
     "name": "stderr",
     "output_type": "stream",
     "text": [
      "[========================================================================] 100%\n",
      "[                                                                        ] N/A%"
     ]
    },
    {
     "name": "stdout",
     "output_type": "stream",
     "text": [
      "                                                                                          \n",
      "##########################################################################################\n",
      "                                                                                          \n",
      "                                       p̃ = 2                \n",
      "                                                                                           \n",
      "                   Fold n° 3, C-index of validation data: 0.831219417153224\n",
      "                                                                                           \n",
      "###########################################################################################\n"
     ]
    },
    {
     "name": "stderr",
     "output_type": "stream",
     "text": [
      "[========================================================================] 100%\n",
      "[                                                                        ] N/A%"
     ]
    },
    {
     "name": "stdout",
     "output_type": "stream",
     "text": [
      "                                                                                          \n",
      "##########################################################################################\n",
      "                                                                                          \n",
      "                                       p̃ = 2                \n",
      "                                                                                           \n",
      "                   Fold n° 4, C-index of validation data: 0.8371237947577996\n",
      "                                                                                           \n",
      "###########################################################################################\n"
     ]
    },
    {
     "name": "stderr",
     "output_type": "stream",
     "text": [
      "[========================================================================] 100%\n"
     ]
    },
    {
     "name": "stdout",
     "output_type": "stream",
     "text": [
      "                                                                                          \n",
      "##########################################################################################\n",
      "                                                                                          \n",
      "                                       p̃ = 2                \n",
      "                                                                                           \n",
      "                   Fold n° 5, C-index of validation data: 0.8310348713374461\n",
      "                                                                                           \n",
      "###########################################################################################\n",
      "Experiment terminated\n"
     ]
    },
    {
     "data": {
      "text/plain": [
       "[0.8235494170554521,\n",
       " 0.8261859166752823,\n",
       " 0.831219417153224,\n",
       " 0.8371237947577996,\n",
       " 0.8310348713374461]"
      ]
     },
     "execution_count": 7,
     "metadata": {},
     "output_type": "execute_result"
    }
   ],
   "source": [
    "cv.ApplyFiveFoldCrossValidation_AndReturnScores()"
   ]
  },
  {
   "cell_type": "code",
   "execution_count": null,
   "metadata": {},
   "outputs": [],
   "source": [
    "profile = LineProfiler(cv.ApplyFiveFoldCrossValidation_AndReturnScores())\n",
    "profile.print_stats()"
   ]
  },
  {
   "cell_type": "code",
   "execution_count": null,
   "metadata": {},
   "outputs": [],
   "source": [
    "# Timer unit: 1e-07 s  with default value of num_worker"
   ]
  }
 ],
 "metadata": {
  "accelerator": "GPU",
  "colab": {
   "collapsed_sections": [],
   "name": "Notebook.ipynb",
   "provenance": []
  },
  "kernelspec": {
   "display_name": "Python 3",
   "language": "python",
   "name": "python3"
  },
  "language_info": {
   "codemirror_mode": {
    "name": "ipython",
    "version": 3
   },
   "file_extension": ".py",
   "mimetype": "text/x-python",
   "name": "python",
   "nbconvert_exporter": "python",
   "pygments_lexer": "ipython3",
   "version": "3.6.8"
  }
 },
 "nbformat": 4,
 "nbformat_minor": 1
}
