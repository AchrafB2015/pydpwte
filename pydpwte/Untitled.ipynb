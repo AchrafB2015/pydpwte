{
 "cells": [
  {
   "cell_type": "code",
   "execution_count": 1,
   "metadata": {},
   "outputs": [],
   "source": [
    "from dpwte.dpwte import dpwte\n",
    "from datasets import generate_data as gen_data\n",
    "from utils.cross_validation import CrossValidation"
   ]
  },
  {
   "cell_type": "code",
   "execution_count": null,
   "metadata": {},
   "outputs": [
    {
     "name": "stdout",
     "output_type": "stream",
     "text": [
      "path:C:\\Users\\abennis\\pydpwte\\pydpwte\\datasets\\support2.csv\n"
     ]
    },
    {
     "name": "stderr",
     "output_type": "stream",
     "text": [
      "[                                                                        ] N/A%C:\\Users\\abennis\\pydpwte\\pydpwte\\dpwte\\dpwte.py:62: UserWarning: Implicit dimension choice for softmax has been deprecated. Change the call to include dim=X as an argument.\n",
      "  x2 = t_func.softmax(self.denseOutputAlphas(x2))\n",
      "[========================================================================] 100%\n",
      "[                                                                        ] N/A%"
     ]
    },
    {
     "name": "stdout",
     "output_type": "stream",
     "text": [
      "                                                                                          \n",
      "##########################################################################################\n",
      "                                                                                          \n",
      "                                       p̃ = 5                \n",
      "                                                                                           \n",
      "                   Fold n° 1, C-index of validation data: 0.8032221276875524\n",
      "                                                                                           \n",
      "###########################################################################################\n"
     ]
    },
    {
     "name": "stderr",
     "output_type": "stream",
     "text": [
      "[========================================================================] 100%\n",
      "[                                                                        ] N/A%"
     ]
    },
    {
     "name": "stdout",
     "output_type": "stream",
     "text": [
      "                                                                                          \n",
      "##########################################################################################\n",
      "                                                                                          \n",
      "                                       p̃ = 3                \n",
      "                                                                                           \n",
      "                   Fold n° 2, C-index of validation data: 0.8300445611084477\n",
      "                                                                                           \n",
      "###########################################################################################\n"
     ]
    },
    {
     "name": "stderr",
     "output_type": "stream",
     "text": [
      "[============                                                            ]  17%"
     ]
    }
   ],
   "source": [
    "X, Y = gen_data.generate_data_SUPPORT()\n",
    "p = 10\n",
    "nb_features = X.shape[1]\n",
    "model = dpwte(nb_features, p)\n",
    "n_epochs = 1000\n",
    "regularization_parameter = 0.0001\n",
    "w_th = 0.1\n",
    "lr = 1e-4\n",
    "cv = CrossValidation(model, p, X, Y, optimizer_name='Adam', regularization_parameter=regularization_parameter\n",
    "                     , w_th=w_th, n_epochs=n_epochs, lr=lr)\n",
    "cv.five_fold_cross_validation()"
   ]
  },
  {
   "cell_type": "code",
   "execution_count": null,
   "metadata": {},
   "outputs": [],
   "source": []
  }
 ],
 "metadata": {
  "kernelspec": {
   "display_name": "Python 3",
   "language": "python",
   "name": "python3"
  },
  "language_info": {
   "codemirror_mode": {
    "name": "ipython",
    "version": 3
   },
   "file_extension": ".py",
   "mimetype": "text/x-python",
   "name": "python",
   "nbconvert_exporter": "python",
   "pygments_lexer": "ipython3",
   "version": "3.6.8"
  }
 },
 "nbformat": 4,
 "nbformat_minor": 2
}
